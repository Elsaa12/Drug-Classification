{
 "cells": [
  {
   "cell_type": "code",
   "execution_count": null,
   "metadata": {
    "_cell_guid": "b1076dfc-b9ad-4769-8c92-a6c4dae69d19",
    "_uuid": "8f2839f25d086af736a60e9eeb907d3b93b6e0e5",
    "execution": {
     "iopub.execute_input": "2021-06-08T14:54:18.409037Z",
     "iopub.status.busy": "2021-06-08T14:54:18.40863Z",
     "iopub.status.idle": "2021-06-08T14:54:18.423597Z",
     "shell.execute_reply": "2021-06-08T14:54:18.422852Z",
     "shell.execute_reply.started": "2021-06-08T14:54:18.408955Z"
    },
    "trusted": true
   },
   "outputs": [],
   "source": [
    "import numpy as np # linear algebra\n",
    "import pandas as pd # data processing, CSV file I/O (e.g. pd.read_csv)\n",
    "\n",
    "import os\n",
    "for dirname, _, filenames in os.walk('/kaggle/input'):\n",
    "    for filename in filenames:\n",
    "        print(os.path.join(dirname, filename))\n"
   ]
  },
  {
   "cell_type": "markdown",
   "metadata": {},
   "source": [
    "* Drug Classification.\n",
    "Project goal: \n",
    "Untuk membuat model yang mampu menentukan jenis obat mana yang harus diresepkan kepada pasien berdasarkan sejumlah fitur, menggunakan berbagai algoritma klasifikasi. "
   ]
  },
  {
   "cell_type": "markdown",
   "metadata": {},
   "source": [
    "# 1. Imports"
   ]
  },
  {
   "cell_type": "code",
   "execution_count": 2,
   "metadata": {
    "execution": {
     "iopub.execute_input": "2021-06-08T14:54:18.447964Z",
     "iopub.status.busy": "2021-06-08T14:54:18.44747Z",
     "iopub.status.idle": "2021-06-08T14:54:20.074075Z",
     "shell.execute_reply": "2021-06-08T14:54:20.073273Z",
     "shell.execute_reply.started": "2021-06-08T14:54:18.447933Z"
    },
    "trusted": true
   },
   "outputs": [],
   "source": [
    "import pandas as pd \n",
    "import seaborn as sns\n",
    "from sklearn.preprocessing import LabelEncoder\n",
    "from sklearn.model_selection import train_test_split\n",
    "from imblearn.over_sampling import SMOTE\n",
    "from sklearn import linear_model, naive_bayes, neighbors, svm"
   ]
  },
  {
   "cell_type": "code",
   "execution_count": 3,
   "metadata": {
    "execution": {
     "iopub.execute_input": "2021-06-08T14:54:20.075869Z",
     "iopub.status.busy": "2021-06-08T14:54:20.075455Z",
     "iopub.status.idle": "2021-06-08T14:54:20.12099Z",
     "shell.execute_reply": "2021-06-08T14:54:20.120241Z",
     "shell.execute_reply.started": "2021-06-08T14:54:20.075841Z"
    },
    "trusted": true
   },
   "outputs": [
    {
     "data": {
      "text/html": [
       "<div>\n",
       "<style scoped>\n",
       "    .dataframe tbody tr th:only-of-type {\n",
       "        vertical-align: middle;\n",
       "    }\n",
       "\n",
       "    .dataframe tbody tr th {\n",
       "        vertical-align: top;\n",
       "    }\n",
       "\n",
       "    .dataframe thead th {\n",
       "        text-align: right;\n",
       "    }\n",
       "</style>\n",
       "<table border=\"1\" class=\"dataframe\">\n",
       "  <thead>\n",
       "    <tr style=\"text-align: right;\">\n",
       "      <th></th>\n",
       "      <th>Age</th>\n",
       "      <th>Sex</th>\n",
       "      <th>BP</th>\n",
       "      <th>Cholesterol</th>\n",
       "      <th>Na_to_K</th>\n",
       "      <th>Drug</th>\n",
       "    </tr>\n",
       "  </thead>\n",
       "  <tbody>\n",
       "    <tr>\n",
       "      <th>0</th>\n",
       "      <td>23</td>\n",
       "      <td>F</td>\n",
       "      <td>HIGH</td>\n",
       "      <td>HIGH</td>\n",
       "      <td>25.355</td>\n",
       "      <td>DrugY</td>\n",
       "    </tr>\n",
       "    <tr>\n",
       "      <th>1</th>\n",
       "      <td>47</td>\n",
       "      <td>M</td>\n",
       "      <td>LOW</td>\n",
       "      <td>HIGH</td>\n",
       "      <td>13.093</td>\n",
       "      <td>drugC</td>\n",
       "    </tr>\n",
       "    <tr>\n",
       "      <th>2</th>\n",
       "      <td>47</td>\n",
       "      <td>M</td>\n",
       "      <td>LOW</td>\n",
       "      <td>HIGH</td>\n",
       "      <td>10.114</td>\n",
       "      <td>drugC</td>\n",
       "    </tr>\n",
       "    <tr>\n",
       "      <th>3</th>\n",
       "      <td>28</td>\n",
       "      <td>F</td>\n",
       "      <td>NORMAL</td>\n",
       "      <td>HIGH</td>\n",
       "      <td>7.798</td>\n",
       "      <td>drugX</td>\n",
       "    </tr>\n",
       "    <tr>\n",
       "      <th>4</th>\n",
       "      <td>61</td>\n",
       "      <td>F</td>\n",
       "      <td>LOW</td>\n",
       "      <td>HIGH</td>\n",
       "      <td>18.043</td>\n",
       "      <td>DrugY</td>\n",
       "    </tr>\n",
       "  </tbody>\n",
       "</table>\n",
       "</div>"
      ],
      "text/plain": [
       "   Age Sex      BP Cholesterol  Na_to_K   Drug\n",
       "0   23   F    HIGH        HIGH   25.355  DrugY\n",
       "1   47   M     LOW        HIGH   13.093  drugC\n",
       "2   47   M     LOW        HIGH   10.114  drugC\n",
       "3   28   F  NORMAL        HIGH    7.798  drugX\n",
       "4   61   F     LOW        HIGH   18.043  DrugY"
      ]
     },
     "execution_count": 3,
     "metadata": {},
     "output_type": "execute_result"
    }
   ],
   "source": [
    "drugs = pd.read_csv('drug200.csv')\n",
    "drugs.head()"
   ]
  },
  {
   "cell_type": "markdown",
   "metadata": {},
   "source": [
    "the variable descriptions are as follows:\n",
    "\n",
    "-Age: Age of the patient in years\n",
    "\n",
    "-Sex: Sex of the patient- male or female \n",
    "\n",
    "-BP: Blood Pressure of patient-high, low, or normal \n",
    "\n",
    "-Cholesterol-Cholesterol level of the patient- normal or high\n",
    "\n",
    "-Na-to_K: Sodium to Potassium ratio in patient's blood \n",
    "\n",
    "-Drug: The drug type that the patient was prescirbed- drugA,drugB,drugC,drugX or drugY"
   ]
  },
  {
   "cell_type": "markdown",
   "metadata": {},
   "source": [
    " # 2.Grouping data"
   ]
  },
  {
   "cell_type": "markdown",
   "metadata": {},
   "source": [
    "we will group the Age and Sodium to Potassium Ratio(Na_to_K)values, depending on the max and min values in each column. Let's have a look at their distributions. "
   ]
  },
  {
   "cell_type": "code",
   "execution_count": 4,
   "metadata": {
    "execution": {
     "iopub.execute_input": "2021-06-08T14:54:20.122728Z",
     "iopub.status.busy": "2021-06-08T14:54:20.122414Z",
     "iopub.status.idle": "2021-06-08T14:54:20.370031Z",
     "shell.execute_reply": "2021-06-08T14:54:20.369259Z",
     "shell.execute_reply.started": "2021-06-08T14:54:20.122699Z"
    },
    "trusted": true
   },
   "outputs": [
    {
     "name": "stderr",
     "output_type": "stream",
     "text": [
      "C:\\Users\\Elsaa\\AppData\\Local\\Temp\\ipykernel_23404\\1296816122.py:1: UserWarning: \n",
      "\n",
      "`distplot` is a deprecated function and will be removed in seaborn v0.14.0.\n",
      "\n",
      "Please adapt your code to use either `displot` (a figure-level function with\n",
      "similar flexibility) or `histplot` (an axes-level function for histograms).\n",
      "\n",
      "For a guide to updating your code to use the new functions, please see\n",
      "https://gist.github.com/mwaskom/de44147ed2974457ad6372750bbe5751\n",
      "\n",
      "  sns.distplot(drugs['Age'])\n"
     ]
    },
    {
     "data": {
      "text/plain": [
       "<Axes: xlabel='Age', ylabel='Density'>"
      ]
     },
     "execution_count": 4,
     "metadata": {},
     "output_type": "execute_result"
    },
    {
     "data": {
      "image/png": "[encoded data removed]",
      "text/plain": [
       "<Figure size 640x480 with 1 Axes>"
      ]
     },
     "metadata": {},
     "output_type": "display_data"
    }
   ],
   "source": [
    "sns.distplot(drugs['Age'])"
   ]
  },
  {
   "cell_type": "code",
   "execution_count": 5,
   "metadata": {
    "execution": {
     "iopub.execute_input": "2021-06-08T14:54:20.371438Z",
     "iopub.status.busy": "2021-06-08T14:54:20.371032Z",
     "iopub.status.idle": "2021-06-08T14:54:20.533066Z",
     "shell.execute_reply": "2021-06-08T14:54:20.532018Z",
     "shell.execute_reply.started": "2021-06-08T14:54:20.37141Z"
    },
    "trusted": true
   },
   "outputs": [
    {
     "name": "stderr",
     "output_type": "stream",
     "text": [
      "C:\\Users\\Elsaa\\AppData\\Local\\Temp\\ipykernel_23404\\2097607397.py:1: UserWarning: \n",
      "\n",
      "`distplot` is a deprecated function and will be removed in seaborn v0.14.0.\n",
      "\n",
      "Please adapt your code to use either `displot` (a figure-level function with\n",
      "similar flexibility) or `histplot` (an axes-level function for histograms).\n",
      "\n",
      "For a guide to updating your code to use the new functions, please see\n",
      "https://gist.github.com/mwaskom/de44147ed2974457ad6372750bbe5751\n",
      "\n",
      "  sns.distplot(drugs['Na_to_K'])\n"
     ]
    },
    {
     "data": {
      "text/plain": [
       "<Axes: xlabel='Na_to_K', ylabel='Density'>"
      ]
     },
     "execution_count": 5,
     "metadata": {},
     "output_type": "execute_result"
    },
    {
     "data": {
      "image/png": "[encoded data removed]",
      "text/plain": [
       "<Figure size 640x480 with 1 Axes>"
      ]
     },
     "metadata": {},
     "output_type": "display_data"
    }
   ],
   "source": [
    "sns.distplot(drugs['Na_to_K'])"
   ]
  },
  {
   "cell_type": "code",
   "execution_count": 6,
   "metadata": {
    "execution": {
     "iopub.execute_input": "2021-06-08T14:54:20.536061Z",
     "iopub.status.busy": "2021-06-08T14:54:20.535761Z",
     "iopub.status.idle": "2021-06-08T14:54:20.557142Z",
     "shell.execute_reply": "2021-06-08T14:54:20.556118Z",
     "shell.execute_reply.started": "2021-06-08T14:54:20.536033Z"
    },
    "trusted": true
   },
   "outputs": [
    {
     "data": {
      "text/html": [
       "<div>\n",
       "<style scoped>\n",
       "    .dataframe tbody tr th:only-of-type {\n",
       "        vertical-align: middle;\n",
       "    }\n",
       "\n",
       "    .dataframe tbody tr th {\n",
       "        vertical-align: top;\n",
       "    }\n",
       "\n",
       "    .dataframe thead th {\n",
       "        text-align: right;\n",
       "    }\n",
       "</style>\n",
       "<table border=\"1\" class=\"dataframe\">\n",
       "  <thead>\n",
       "    <tr style=\"text-align: right;\">\n",
       "      <th></th>\n",
       "      <th>Age</th>\n",
       "      <th>Na_to_K</th>\n",
       "    </tr>\n",
       "  </thead>\n",
       "  <tbody>\n",
       "    <tr>\n",
       "      <th>count</th>\n",
       "      <td>200.000000</td>\n",
       "      <td>200.000000</td>\n",
       "    </tr>\n",
       "    <tr>\n",
       "      <th>mean</th>\n",
       "      <td>44.315000</td>\n",
       "      <td>16.084485</td>\n",
       "    </tr>\n",
       "    <tr>\n",
       "      <th>std</th>\n",
       "      <td>16.544315</td>\n",
       "      <td>7.223956</td>\n",
       "    </tr>\n",
       "    <tr>\n",
       "      <th>min</th>\n",
       "      <td>15.000000</td>\n",
       "      <td>6.269000</td>\n",
       "    </tr>\n",
       "    <tr>\n",
       "      <th>25%</th>\n",
       "      <td>31.000000</td>\n",
       "      <td>10.445500</td>\n",
       "    </tr>\n",
       "    <tr>\n",
       "      <th>50%</th>\n",
       "      <td>45.000000</td>\n",
       "      <td>13.936500</td>\n",
       "    </tr>\n",
       "    <tr>\n",
       "      <th>75%</th>\n",
       "      <td>58.000000</td>\n",
       "      <td>19.380000</td>\n",
       "    </tr>\n",
       "    <tr>\n",
       "      <th>max</th>\n",
       "      <td>74.000000</td>\n",
       "      <td>38.247000</td>\n",
       "    </tr>\n",
       "  </tbody>\n",
       "</table>\n",
       "</div>"
      ],
      "text/plain": [
       "              Age     Na_to_K\n",
       "count  200.000000  200.000000\n",
       "mean    44.315000   16.084485\n",
       "std     16.544315    7.223956\n",
       "min     15.000000    6.269000\n",
       "25%     31.000000   10.445500\n",
       "50%     45.000000   13.936500\n",
       "75%     58.000000   19.380000\n",
       "max     74.000000   38.247000"
      ]
     },
     "execution_count": 6,
     "metadata": {},
     "output_type": "execute_result"
    }
   ],
   "source": [
    "drugs.describe()"
   ]
  },
  {
   "cell_type": "markdown",
   "metadata": {},
   "source": [
    "We can see here that the minimum and maximum ages are 15 and 74 respectively and the minimum and maximum sodium to potassium ratios are 6.269 and 38.247 respectively."
   ]
  },
  {
   "cell_type": "markdown",
   "metadata": {},
   "source": [
    "> **Age groups:** \n",
    "* under 30s\n",
    "* 30-40\n",
    "* 40-50\n",
    "* 50-60\n",
    "* Over 60s\n"
   ]
  },
  {
   "cell_type": "markdown",
   "metadata": {},
   "source": [
    "> **Sodium to Potassium ratios:**\n",
    "* 5-10\n",
    "* 10-15\n",
    "* 15-20\n",
    "* 20-25\n",
    "* 25-30\n",
    "* 30+"
   ]
  },
  {
   "cell_type": "code",
   "execution_count": 7,
   "metadata": {
    "execution": {
     "iopub.execute_input": "2021-06-08T14:54:20.560316Z",
     "iopub.status.busy": "2021-06-08T14:54:20.560001Z",
     "iopub.status.idle": "2021-06-08T14:54:20.567975Z",
     "shell.execute_reply": "2021-06-08T14:54:20.566925Z",
     "shell.execute_reply.started": "2021-06-08T14:54:20.560287Z"
    },
    "trusted": true
   },
   "outputs": [],
   "source": [
    "age_groups = []\n",
    "for i in drugs['Age']:\n",
    "    if i <= 30:\n",
    "        age_groups.append('0-30')\n",
    "    if i > 30 and i <= 40:\n",
    "        age_groups.append('30-40')\n",
    "    if i > 40 and i <= 50:\n",
    "        age_groups.append('40-50')\n",
    "    if i > 50 and i <= 60:\n",
    "        age_groups.append('50-60')\n",
    "    if i > 60:\n",
    "        age_groups.append('60+')\n",
    "\n",
    "drugs['AgeGroup'] = age_groups"
   ]
  },
  {
   "cell_type": "code",
   "execution_count": 8,
   "metadata": {
    "execution": {
     "iopub.execute_input": "2021-06-08T14:54:20.569561Z",
     "iopub.status.busy": "2021-06-08T14:54:20.569257Z",
     "iopub.status.idle": "2021-06-08T14:54:20.583906Z",
     "shell.execute_reply": "2021-06-08T14:54:20.582706Z",
     "shell.execute_reply.started": "2021-06-08T14:54:20.569533Z"
    },
    "trusted": true
   },
   "outputs": [],
   "source": [
    "na_to_k_groups = []\n",
    "for i in drugs[\"Na_to_K\"]:\n",
    "    if i <= 10:\n",
    "        na_to_k_groups.append('5-10')\n",
    "    if i > 10 and i <= 15:\n",
    "        na_to_k_groups.append('10-15')\n",
    "    if i > 15 and i <= 20:\n",
    "        na_to_k_groups.append('15-20')\n",
    "    if i > 20 and i <= 25:\n",
    "        na_to_k_groups.append('20-25')\n",
    "    if i > 25 and i <= 30:\n",
    "        na_to_k_groups.append('25-30')\n",
    "    if i > 30:\n",
    "        na_to_k_groups.append('30+')\n",
    "\n",
    "drugs['Na_to_K_groups'] = na_to_k_groups"
   ]
  },
  {
   "cell_type": "code",
   "execution_count": 9,
   "metadata": {
    "execution": {
     "iopub.execute_input": "2021-06-08T14:54:20.58552Z",
     "iopub.status.busy": "2021-06-08T14:54:20.584958Z",
     "iopub.status.idle": "2021-06-08T14:54:20.609985Z",
     "shell.execute_reply": "2021-06-08T14:54:20.6089Z",
     "shell.execute_reply.started": "2021-06-08T14:54:20.585488Z"
    },
    "trusted": true
   },
   "outputs": [
    {
     "data": {
      "text/html": [
       "<div>\n",
       "<style scoped>\n",
       "    .dataframe tbody tr th:only-of-type {\n",
       "        vertical-align: middle;\n",
       "    }\n",
       "\n",
       "    .dataframe tbody tr th {\n",
       "        vertical-align: top;\n",
       "    }\n",
       "\n",
       "    .dataframe thead th {\n",
       "        text-align: right;\n",
       "    }\n",
       "</style>\n",
       "<table border=\"1\" class=\"dataframe\">\n",
       "  <thead>\n",
       "    <tr style=\"text-align: right;\">\n",
       "      <th></th>\n",
       "      <th>AgeGroup</th>\n",
       "      <th>Sex</th>\n",
       "      <th>BP</th>\n",
       "      <th>Cholesterol</th>\n",
       "      <th>Na_to_K_groups</th>\n",
       "      <th>Drug</th>\n",
       "    </tr>\n",
       "  </thead>\n",
       "  <tbody>\n",
       "    <tr>\n",
       "      <th>0</th>\n",
       "      <td>0-30</td>\n",
       "      <td>F</td>\n",
       "      <td>HIGH</td>\n",
       "      <td>HIGH</td>\n",
       "      <td>25-30</td>\n",
       "      <td>DrugY</td>\n",
       "    </tr>\n",
       "    <tr>\n",
       "      <th>1</th>\n",
       "      <td>40-50</td>\n",
       "      <td>M</td>\n",
       "      <td>LOW</td>\n",
       "      <td>HIGH</td>\n",
       "      <td>10-15</td>\n",
       "      <td>drugC</td>\n",
       "    </tr>\n",
       "    <tr>\n",
       "      <th>2</th>\n",
       "      <td>40-50</td>\n",
       "      <td>M</td>\n",
       "      <td>LOW</td>\n",
       "      <td>HIGH</td>\n",
       "      <td>10-15</td>\n",
       "      <td>drugC</td>\n",
       "    </tr>\n",
       "    <tr>\n",
       "      <th>3</th>\n",
       "      <td>0-30</td>\n",
       "      <td>F</td>\n",
       "      <td>NORMAL</td>\n",
       "      <td>HIGH</td>\n",
       "      <td>5-10</td>\n",
       "      <td>drugX</td>\n",
       "    </tr>\n",
       "    <tr>\n",
       "      <th>4</th>\n",
       "      <td>60+</td>\n",
       "      <td>F</td>\n",
       "      <td>LOW</td>\n",
       "      <td>HIGH</td>\n",
       "      <td>15-20</td>\n",
       "      <td>DrugY</td>\n",
       "    </tr>\n",
       "  </tbody>\n",
       "</table>\n",
       "</div>"
      ],
      "text/plain": [
       "  AgeGroup Sex      BP Cholesterol Na_to_K_groups   Drug\n",
       "0     0-30   F    HIGH        HIGH          25-30  DrugY\n",
       "1    40-50   M     LOW        HIGH          10-15  drugC\n",
       "2    40-50   M     LOW        HIGH          10-15  drugC\n",
       "3     0-30   F  NORMAL        HIGH           5-10  drugX\n",
       "4      60+   F     LOW        HIGH          15-20  DrugY"
      ]
     },
     "execution_count": 9,
     "metadata": {},
     "output_type": "execute_result"
    }
   ],
   "source": [
    "drugs = drugs[['AgeGroup','Sex','BP','Cholesterol','Na_to_K_groups','Drug']]\n",
    "drugs.head()"
   ]
  },
  {
   "cell_type": "markdown",
   "metadata": {},
   "source": [
    "# 3.Visualising tha variable distributions"
   ]
  },
  {
   "cell_type": "code",
   "execution_count": 10,
   "metadata": {
    "execution": {
     "iopub.execute_input": "2021-06-08T14:54:20.611604Z",
     "iopub.status.busy": "2021-06-08T14:54:20.611302Z",
     "iopub.status.idle": "2021-06-08T14:54:20.784298Z",
     "shell.execute_reply": "2021-06-08T14:54:20.783279Z",
     "shell.execute_reply.started": "2021-06-08T14:54:20.611576Z"
    },
    "trusted": true
   },
   "outputs": [
    {
     "name": "stderr",
     "output_type": "stream",
     "text": [
      "C:\\Users\\Elsaa\\AppData\\Local\\Temp\\ipykernel_23404\\1629066789.py:2: FutureWarning: \n",
      "\n",
      "Passing `palette` without assigning `hue` is deprecated and will be removed in v0.14.0. Assign the `x` variable to `hue` and set `legend=False` for the same effect.\n",
      "\n",
      "  sns.countplot(x=\"AgeGroup\", data=drugs, palette='Spectral', order=['0-30', '30-40', '40-50', '50-60', '60+'])\n"
     ]
    },
    {
     "data": {
      "text/plain": [
       "<Axes: xlabel='AgeGroup', ylabel='count'>"
      ]
     },
     "execution_count": 10,
     "metadata": {},
     "output_type": "execute_result"
    },
    {
     "data": {
      "image/png": "[encoded data removed]",
      "text/plain": [
       "<Figure size 640x480 with 1 Axes>"
      ]
     },
     "metadata": {},
     "output_type": "display_data"
    }
   ],
   "source": [
    "sns.set_theme(style=\"whitegrid\")\n",
    "sns.countplot(x=\"AgeGroup\", data=drugs, palette='Spectral', order=['0-30', '30-40', '40-50', '50-60', '60+'])"
   ]
  },
  {
   "cell_type": "code",
   "execution_count": 11,
   "metadata": {
    "execution": {
     "iopub.execute_input": "2021-06-08T14:54:20.785777Z",
     "iopub.status.busy": "2021-06-08T14:54:20.7855Z",
     "iopub.status.idle": "2021-06-08T14:54:20.913532Z",
     "shell.execute_reply": "2021-06-08T14:54:20.912168Z",
     "shell.execute_reply.started": "2021-06-08T14:54:20.785751Z"
    },
    "trusted": true
   },
   "outputs": [
    {
     "name": "stderr",
     "output_type": "stream",
     "text": [
      "C:\\Users\\Elsaa\\AppData\\Local\\Temp\\ipykernel_23404\\1596382455.py:1: FutureWarning: \n",
      "\n",
      "Passing `palette` without assigning `hue` is deprecated and will be removed in v0.14.0. Assign the `x` variable to `hue` and set `legend=False` for the same effect.\n",
      "\n",
      "  sns.countplot(x='Sex', data = drugs, palette='Spectral')\n"
     ]
    },
    {
     "data": {
      "text/plain": [
       "<Axes: xlabel='Sex', ylabel='count'>"
      ]
     },
     "execution_count": 11,
     "metadata": {},
     "output_type": "execute_result"
    },
    {
     "data": {
      "image/png": "[encoded data removed]",
      "text/plain": [
       "<Figure size 640x480 with 1 Axes>"
      ]
     },
     "metadata": {},
     "output_type": "display_data"
    }
   ],
   "source": [
    "sns.countplot(x='Sex', data = drugs, palette='Spectral')"
   ]
  },
  {
   "cell_type": "code",
   "execution_count": 12,
   "metadata": {
    "execution": {
     "iopub.execute_input": "2021-06-08T14:54:20.915702Z",
     "iopub.status.busy": "2021-06-08T14:54:20.915251Z",
     "iopub.status.idle": "2021-06-08T14:54:21.072083Z",
     "shell.execute_reply": "2021-06-08T14:54:21.070939Z",
     "shell.execute_reply.started": "2021-06-08T14:54:20.915657Z"
    },
    "trusted": true
   },
   "outputs": [
    {
     "name": "stderr",
     "output_type": "stream",
     "text": [
      "C:\\Users\\Elsaa\\AppData\\Local\\Temp\\ipykernel_23404\\1738407666.py:1: FutureWarning: \n",
      "\n",
      "Passing `palette` without assigning `hue` is deprecated and will be removed in v0.14.0. Assign the `x` variable to `hue` and set `legend=False` for the same effect.\n",
      "\n",
      "  sns.countplot(x=\"BP\", data=drugs, palette='Spectral')\n"
     ]
    },
    {
     "data": {
      "text/plain": [
       "<Axes: xlabel='BP', ylabel='count'>"
      ]
     },
     "execution_count": 12,
     "metadata": {},
     "output_type": "execute_result"
    },
    {
     "data": {
      "image/png": "[encoded data removed]",
      "text/plain": [
       "<Figure size 640x480 with 1 Axes>"
      ]
     },
     "metadata": {},
     "output_type": "display_data"
    }
   ],
   "source": [
    "sns.countplot(x=\"BP\", data=drugs, palette='Spectral')"
   ]
  },
  {
   "cell_type": "code",
   "execution_count": 13,
   "metadata": {
    "execution": {
     "iopub.execute_input": "2021-06-08T14:54:21.074296Z",
     "iopub.status.busy": "2021-06-08T14:54:21.073818Z",
     "iopub.status.idle": "2021-06-08T14:54:21.204541Z",
     "shell.execute_reply": "2021-06-08T14:54:21.203282Z",
     "shell.execute_reply.started": "2021-06-08T14:54:21.07425Z"
    },
    "trusted": true
   },
   "outputs": [
    {
     "name": "stderr",
     "output_type": "stream",
     "text": [
      "C:\\Users\\Elsaa\\AppData\\Local\\Temp\\ipykernel_23404\\1831651968.py:1: FutureWarning: \n",
      "\n",
      "Passing `palette` without assigning `hue` is deprecated and will be removed in v0.14.0. Assign the `x` variable to `hue` and set `legend=False` for the same effect.\n",
      "\n",
      "  sns.countplot(x=\"Cholesterol\", data=drugs, palette='Spectral')\n"
     ]
    },
    {
     "data": {
      "text/plain": [
       "<Axes: xlabel='Cholesterol', ylabel='count'>"
      ]
     },
     "execution_count": 13,
     "metadata": {},
     "output_type": "execute_result"
    },
    {
     "data": {
      "image/png": "[encoded data removed]",
      "text/plain": [
       "<Figure size 640x480 with 1 Axes>"
      ]
     },
     "metadata": {},
     "output_type": "display_data"
    }
   ],
   "source": [
    "sns.countplot(x=\"Cholesterol\", data=drugs, palette='Spectral')"
   ]
  },
  {
   "cell_type": "code",
   "execution_count": 14,
   "metadata": {
    "execution": {
     "iopub.execute_input": "2021-06-08T14:54:21.206099Z",
     "iopub.status.busy": "2021-06-08T14:54:21.205781Z",
     "iopub.status.idle": "2021-06-08T14:54:21.378368Z",
     "shell.execute_reply": "2021-06-08T14:54:21.377507Z",
     "shell.execute_reply.started": "2021-06-08T14:54:21.206069Z"
    },
    "trusted": true
   },
   "outputs": [
    {
     "name": "stderr",
     "output_type": "stream",
     "text": [
      "C:\\Users\\Elsaa\\AppData\\Local\\Temp\\ipykernel_23404\\949340602.py:1: FutureWarning: \n",
      "\n",
      "Passing `palette` without assigning `hue` is deprecated and will be removed in v0.14.0. Assign the `x` variable to `hue` and set `legend=False` for the same effect.\n",
      "\n",
      "  sns.countplot(x='Na_to_K_groups', data=drugs, palette='Spectral', order = ['5-10','10-15','15-20','20-25','30+'])\n"
     ]
    },
    {
     "data": {
      "text/plain": [
       "<Axes: xlabel='Na_to_K_groups', ylabel='count'>"
      ]
     },
     "execution_count": 14,
     "metadata": {},
     "output_type": "execute_result"
    },
    {
     "data": {
      "image/png": "[encoded data removed]",
      "text/plain": [
       "<Figure size 640x480 with 1 Axes>"
      ]
     },
     "metadata": {},
     "output_type": "display_data"
    }
   ],
   "source": [
    "sns.countplot(x='Na_to_K_groups', data=drugs, palette='Spectral', order = ['5-10','10-15','15-20','20-25','30+'])"
   ]
  },
  {
   "cell_type": "code",
   "execution_count": 15,
   "metadata": {
    "execution": {
     "iopub.execute_input": "2021-06-08T14:54:21.379799Z",
     "iopub.status.busy": "2021-06-08T14:54:21.379501Z",
     "iopub.status.idle": "2021-06-08T14:54:21.533348Z",
     "shell.execute_reply": "2021-06-08T14:54:21.532571Z",
     "shell.execute_reply.started": "2021-06-08T14:54:21.37977Z"
    },
    "trusted": true
   },
   "outputs": [
    {
     "name": "stderr",
     "output_type": "stream",
     "text": [
      "C:\\Users\\Elsaa\\AppData\\Local\\Temp\\ipykernel_23404\\2087279533.py:1: FutureWarning: \n",
      "\n",
      "Passing `palette` without assigning `hue` is deprecated and will be removed in v0.14.0. Assign the `x` variable to `hue` and set `legend=False` for the same effect.\n",
      "\n",
      "  sns.countplot(x=\"Drug\", data=drugs, palette='Spectral')\n"
     ]
    },
    {
     "data": {
      "text/plain": [
       "<Axes: xlabel='Drug', ylabel='count'>"
      ]
     },
     "execution_count": 15,
     "metadata": {},
     "output_type": "execute_result"
    },
    {
     "data": {
      "image/png": "[encoded data removed]",
      "text/plain": [
       "<Figure size 640x480 with 1 Axes>"
      ]
     },
     "metadata": {},
     "output_type": "display_data"
    }
   ],
   "source": [
    "sns.countplot(x=\"Drug\", data=drugs, palette='Spectral')\n"
   ]
  },
  {
   "cell_type": "markdown",
   "metadata": {},
   "source": [
    "The drug frequencies are very unbalanced. For a classification problem it would be ideal to have similar numbers of the trget variable. Therefore we will use SMOTE(Synthetic Minority Oversampling Technique). SMOTE will oversample drugA, drugB, drugC and drugX to have the same numver of samples as DrugY. The systhetic aspect of this oversampling technique helps to avoid overfitting, as it's not just repeating existing data. First we need to split the dataset into training and testing sets and transform the data into dummies."
   ]
  },
  {
   "cell_type": "code",
   "execution_count": 16,
   "metadata": {
    "execution": {
     "iopub.execute_input": "2021-06-08T14:54:21.534949Z",
     "iopub.status.busy": "2021-06-08T14:54:21.534494Z",
     "iopub.status.idle": "2021-06-08T14:54:21.539277Z",
     "shell.execute_reply": "2021-06-08T14:54:21.538444Z",
     "shell.execute_reply.started": "2021-06-08T14:54:21.534906Z"
    },
    "trusted": true
   },
   "outputs": [],
   "source": [
    "x, y = drugs.values[:, :-1], drugs.values[:, -1]"
   ]
  },
  {
   "cell_type": "code",
   "execution_count": 17,
   "metadata": {
    "execution": {
     "iopub.execute_input": "2021-06-08T14:54:21.541171Z",
     "iopub.status.busy": "2021-06-08T14:54:21.54083Z",
     "iopub.status.idle": "2021-06-08T14:54:21.553714Z",
     "shell.execute_reply": "2021-06-08T14:54:21.552518Z",
     "shell.execute_reply.started": "2021-06-08T14:54:21.541141Z"
    },
    "trusted": true
   },
   "outputs": [],
   "source": [
    "x_train, x_test, y_train, y_test = train_test_split(x,y, test_size=0.33)"
   ]
  },
  {
   "cell_type": "code",
   "execution_count": 18,
   "metadata": {
    "execution": {
     "iopub.execute_input": "2021-06-08T14:54:21.55544Z",
     "iopub.status.busy": "2021-06-08T14:54:21.555112Z",
     "iopub.status.idle": "2021-06-08T14:54:21.583032Z",
     "shell.execute_reply": "2021-06-08T14:54:21.582204Z",
     "shell.execute_reply.started": "2021-06-08T14:54:21.555405Z"
    },
    "trusted": true
   },
   "outputs": [],
   "source": [
    "x_train = pd.get_dummies(pd.DataFrame(x_train))\n",
    "x_test = pd.get_dummies(pd.DataFrame(x_test))"
   ]
  },
  {
   "cell_type": "markdown",
   "metadata": {},
   "source": [
    "We're only using SMOTE on the training data. The synthetic data shouldn't be so similar to the orginal data that it causes overfitting, but by only oversampling the training data, we will know it if does"
   ]
  },
  {
   "cell_type": "code",
   "execution_count": 19,
   "metadata": {
    "execution": {
     "iopub.execute_input": "2021-06-08T14:54:21.584432Z",
     "iopub.status.busy": "2021-06-08T14:54:21.584009Z",
     "iopub.status.idle": "2021-06-08T14:54:21.600219Z",
     "shell.execute_reply": "2021-06-08T14:54:21.599359Z",
     "shell.execute_reply.started": "2021-06-08T14:54:21.584374Z"
    },
    "trusted": true
   },
   "outputs": [
    {
     "name": "stdout",
     "output_type": "stream",
     "text": [
      "   0_0-30  0_30-40  0_40-50  0_50-60  0_60+  1_F  1_M  2_HIGH  2_LOW  \\\n",
      "0       0        0        0        1      0    0    1       1      0   \n",
      "1       1        0        0        0      0    0    1       0      0   \n",
      "2       0        0        0        0      1    0    1       1      0   \n",
      "3       1        0        0        0      0    1    0       1      0   \n",
      "4       0        0        0        1      0    0    1       0      0   \n",
      "\n",
      "   2_NORMAL  3_HIGH  3_NORMAL  4_10-15  4_15-20  4_20-25  4_25-30  4_30+  \\\n",
      "0         0       1         0        0        1        0        0      0   \n",
      "1         1       1         0        0        1        0        0      0   \n",
      "2         0       1         0        1        0        0        0      0   \n",
      "3         0       0         1        0        1        0        0      0   \n",
      "4         1       1         0        0        0        0        0      0   \n",
      "\n",
      "   4_5-10  \n",
      "0       0  \n",
      "1       0  \n",
      "2       0  \n",
      "3       0  \n",
      "4       1  \n",
      "0    DrugY\n",
      "1    DrugY\n",
      "2    drugB\n",
      "3    DrugY\n",
      "4    drugX\n",
      "dtype: object\n"
     ]
    },
    {
     "name": "stderr",
     "output_type": "stream",
     "text": [
      "C:\\Users\\Elsaa\\AppData\\Local\\Temp\\ipykernel_23404\\2058341723.py:6: FutureWarning: Setting an item of incompatible dtype is deprecated and will raise in a future error of pandas. Value '[0 1 0 1 0 0 0 0 0 0 0 1 0 0 0 0 0 0 0 0 0 0 1 0 0 0 0 1 0 0 0 1 1 1 1 0 1\n",
      " 0 0 0 1 0 0 0 0 0 1 0 0 0 0 1 0 0 0 0 0 0 0 0 0 0 0 0 1 0 0 0 0 0 1 0 0 0\n",
      " 0 0 0 0 0 0 1 1 0 0 0 0 0 0 0 0 0 0 1 1 0 0 0 0 0 0 0 1 1 0 0 0 0 0 0 0 0\n",
      " 1 1 0 1 0 0 1 0 0 0 1 0 0 1 0 0 0 1 0 1 0 0 0]' has dtype incompatible with bool, please explicitly cast to a compatible dtype first.\n",
      "  x_train.iloc[:, col] = encoder.fit_transform(x_train.iloc[:, col])\n",
      "C:\\Users\\Elsaa\\AppData\\Local\\Temp\\ipykernel_23404\\2058341723.py:6: FutureWarning: Setting an item of incompatible dtype is deprecated and will raise in a future error of pandas. Value '[0 0 0 0 0 0 0 0 1 0 0 0 1 1 0 0 0 0 1 1 0 0 0 0 0 0 0 0 0 0 1 0 0 0 0 1 0\n",
      " 0 0 0 0 1 0 0 0 0 0 1 0 0 0 0 1 0 1 1 0 0 0 0 0 0 0 0 0 0 0 1 0 1 0 0 1 1\n",
      " 1 1 0 0 1 0 0 0 0 0 0 1 0 0 0 0 1 0 0 0 1 1 0 0 1 1 0 0 0 0 0 0 1 0 0 0 0\n",
      " 0 0 0 0 0 0 0 0 0 1 0 0 1 0 0 0 0 0 0 0 1 1 0]' has dtype incompatible with bool, please explicitly cast to a compatible dtype first.\n",
      "  x_train.iloc[:, col] = encoder.fit_transform(x_train.iloc[:, col])\n",
      "C:\\Users\\Elsaa\\AppData\\Local\\Temp\\ipykernel_23404\\2058341723.py:6: FutureWarning: Setting an item of incompatible dtype is deprecated and will raise in a future error of pandas. Value '[0 0 0 0 0 1 1 0 0 1 1 0 0 0 0 0 1 0 0 0 0 1 0 0 1 0 0 0 1 0 0 0 0 0 0 0 0\n",
      " 0 0 1 0 0 1 0 0 0 0 0 1 0 1 0 0 0 0 0 0 0 1 0 0 1 0 0 0 1 0 0 0 0 0 0 0 0\n",
      " 0 0 1 1 0 1 0 0 1 0 0 0 1 0 0 1 0 0 0 0 0 0 0 0 0 0 0 0 0 1 0 1 0 0 0 1 0\n",
      " 0 0 1 0 0 0 0 0 1 0 0 0 0 0 0 0 1 0 0 0 0 0 1]' has dtype incompatible with bool, please explicitly cast to a compatible dtype first.\n",
      "  x_train.iloc[:, col] = encoder.fit_transform(x_train.iloc[:, col])\n",
      "C:\\Users\\Elsaa\\AppData\\Local\\Temp\\ipykernel_23404\\2058341723.py:6: FutureWarning: Setting an item of incompatible dtype is deprecated and will raise in a future error of pandas. Value '[1 0 0 0 1 0 0 0 0 0 0 0 0 0 1 0 0 1 0 0 0 0 0 1 0 1 0 0 0 0 0 0 0 0 0 0 0\n",
      " 1 0 0 0 0 0 1 0 1 0 0 0 1 0 0 0 1 0 0 1 1 0 1 0 0 1 0 0 0 1 0 0 0 0 0 0 0\n",
      " 0 0 0 0 0 0 0 0 0 0 1 0 0 0 1 0 0 1 0 0 0 0 0 1 0 0 0 0 0 0 1 0 0 0 0 0 0\n",
      " 0 0 0 0 1 0 0 0 0 0 0 0 0 0 0 0 0 0 1 0 0 0 0]' has dtype incompatible with bool, please explicitly cast to a compatible dtype first.\n",
      "  x_train.iloc[:, col] = encoder.fit_transform(x_train.iloc[:, col])\n"
     ]
    }
   ],
   "source": [
    "# Encode categorical columns\n",
    "encoder = LabelEncoder()\n",
    "col_encode = [0, 1, 2, 3]  # Sesuaikan dengan kolom-kolom kategorikal Anda\n",
    "\n",
    "for col in col_encode:\n",
    "    x_train.iloc[:, col] = encoder.fit_transform(x_train.iloc[:, col])\n",
    "\n",
    "# Convert boolean columns to integers\n",
    "boolean_cols = x_train.select_dtypes(include=['bool']).columns\n",
    "x_train[boolean_cols] = x_train[boolean_cols].astype(int)\n",
    "\n",
    "# Terapkan SMOTE\n",
    "smote = SMOTE()\n",
    "X_train_resampled, y_train_resampled = smote.fit_resample(x_train, y_train)\n",
    "\n",
    "\n",
    "# Konversi kembali ke DataFrame\n",
    "X_train_resampled = pd.DataFrame(X_train_resampled, columns=x_train.columns)\n",
    "y_train_resampled = pd.Series(y_train_resampled)\n",
    "\n",
    "# Tampilkan hasil\n",
    "print(X_train_resampled.head())\n",
    "print(y_train_resampled.head())"
   ]
  },
  {
   "cell_type": "code",
   "execution_count": 20,
   "metadata": {
    "execution": {
     "iopub.execute_input": "2021-06-08T14:54:21.60197Z",
     "iopub.status.busy": "2021-06-08T14:54:21.601356Z",
     "iopub.status.idle": "2021-06-08T14:54:21.765243Z",
     "shell.execute_reply": "2021-06-08T14:54:21.764471Z",
     "shell.execute_reply.started": "2021-06-08T14:54:21.601937Z"
    },
    "trusted": true
   },
   "outputs": [
    {
     "name": "stderr",
     "output_type": "stream",
     "text": [
      "C:\\Users\\Elsaa\\AppData\\Local\\Temp\\ipykernel_23404\\1694845469.py:4: FutureWarning: \n",
      "\n",
      "Passing `palette` without assigning `hue` is deprecated and will be removed in v0.14.0. Assign the `x` variable to `hue` and set `legend=False` for the same effect.\n",
      "\n",
      "  ax = sns.countplot(x=y_train, palette='Spectral')\n"
     ]
    },
    {
     "data": {
      "image/png": "[encoded data removed]",
      "text/plain": [
       "<Figure size 640x480 with 1 Axes>"
      ]
     },
     "metadata": {},
     "output_type": "display_data"
    }
   ],
   "source": [
    "import matplotlib.pyplot as plt\n",
    "\n",
    "# Plot countplot hanya dengan y_train\n",
    "ax = sns.countplot(x=y_train, palette='Spectral')\n",
    "ax.set(xlabel='Drug')\n",
    "plt.show()"
   ]
  },
  {
   "cell_type": "code",
   "execution_count": 21,
   "metadata": {
    "execution": {
     "iopub.execute_input": "2021-06-08T14:54:21.766693Z",
     "iopub.status.busy": "2021-06-08T14:54:21.766276Z",
     "iopub.status.idle": "2021-06-08T14:54:21.772188Z",
     "shell.execute_reply": "2021-06-08T14:54:21.771319Z",
     "shell.execute_reply.started": "2021-06-08T14:54:21.766664Z"
    },
    "trusted": true
   },
   "outputs": [
    {
     "name": "stdout",
     "output_type": "stream",
     "text": [
      "ORIGINAL dataset: 200 \n",
      " EXTENDED dataset: 200\n"
     ]
    }
   ],
   "source": [
    "print(\"ORIGINAL dataset:\", len(drugs), \"\\n EXTENDED dataset:\", len(y))"
   ]
  },
  {
   "cell_type": "markdown",
   "metadata": {},
   "source": [
    "Dataset has been extended by 255 "
   ]
  },
  {
   "cell_type": "markdown",
   "metadata": {},
   "source": [
    "# 4. Logistic Regression "
   ]
  },
  {
   "cell_type": "code",
   "execution_count": 22,
   "metadata": {
    "execution": {
     "iopub.execute_input": "2021-06-08T14:54:21.773943Z",
     "iopub.status.busy": "2021-06-08T14:54:21.773605Z",
     "iopub.status.idle": "2021-06-08T14:54:22.131429Z",
     "shell.execute_reply": "2021-06-08T14:54:22.130316Z",
     "shell.execute_reply.started": "2021-06-08T14:54:21.773913Z"
    },
    "trusted": true
   },
   "outputs": [
    {
     "name": "stdout",
     "output_type": "stream",
     "text": [
      "Logistic Regression Predictions: \n",
      " ['drugX' 'DrugY' 'drugA' 'DrugY' 'DrugY' 'DrugY' 'drugX' 'drugA' 'drugX'\n",
      " 'drugX' 'drugX' 'drugX' 'drugX' 'drugB' 'drugX' 'drugX' 'drugX' 'drugC'\n",
      " 'drugX' 'drugC' 'drugX' 'drugX' 'drugB' 'drugA' 'DrugY' 'DrugY' 'drugC'\n",
      " 'drugX' 'DrugY' 'DrugY' 'drugX' 'DrugY' 'DrugY' 'DrugY' 'DrugY' 'DrugY'\n",
      " 'DrugY' 'drugX' 'drugX' 'drugA' 'DrugY' 'DrugY' 'drugX' 'drugB' 'drugA'\n",
      " 'DrugY' 'drugC' 'drugB' 'DrugY' 'drugX' 'drugX' 'drugX' 'DrugY' 'drugB'\n",
      " 'drugX' 'DrugY' 'drugX' 'drugA' 'DrugY' 'drugA' 'DrugY' 'drugC' 'DrugY'\n",
      " 'DrugY' 'DrugY' 'DrugY'] \n",
      " Accuracy: 98.48484848484848 %\n"
     ]
    }
   ],
   "source": [
    "log_reg = linear_model.LogisticRegression(max_iter = 5000)\n",
    "log_reg.fit(x_train, y_train)\n",
    "log_reg_acc = 100*log_reg.score(x_test, y_test)\n",
    "print('Logistic Regression Predictions: \\n', log_reg.predict(x_test), '\\n Accuracy:', log_reg_acc, '%')"
   ]
  },
  {
   "cell_type": "markdown",
   "metadata": {},
   "source": [
    "# 5. Gaussian Naive Bayes "
   ]
  },
  {
   "cell_type": "code",
   "execution_count": 23,
   "metadata": {
    "execution": {
     "iopub.execute_input": "2021-06-08T14:54:22.133195Z",
     "iopub.status.busy": "2021-06-08T14:54:22.132873Z",
     "iopub.status.idle": "2021-06-08T14:54:22.149443Z",
     "shell.execute_reply": "2021-06-08T14:54:22.148546Z",
     "shell.execute_reply.started": "2021-06-08T14:54:22.133166Z"
    },
    "trusted": true
   },
   "outputs": [
    {
     "name": "stdout",
     "output_type": "stream",
     "text": [
      "Naive Bayes Predictions: \n",
      " ['drugX' 'DrugY' 'drugA' 'DrugY' 'DrugY' 'DrugY' 'drugX' 'drugA' 'drugX'\n",
      " 'drugX' 'drugX' 'drugX' 'drugX' 'drugB' 'drugX' 'drugX' 'drugX' 'drugC'\n",
      " 'drugX' 'drugC' 'drugX' 'drugX' 'drugB' 'drugA' 'DrugY' 'DrugY' 'drugC'\n",
      " 'drugX' 'DrugY' 'DrugY' 'drugX' 'DrugY' 'DrugY' 'DrugY' 'DrugY' 'DrugY'\n",
      " 'DrugY' 'drugX' 'drugX' 'drugA' 'DrugY' 'DrugY' 'drugX' 'drugB' 'drugA'\n",
      " 'DrugY' 'drugC' 'drugB' 'DrugY' 'drugX' 'drugX' 'drugX' 'DrugY' 'drugB'\n",
      " 'drugX' 'DrugY' 'drugX' 'drugA' 'DrugY' 'drugA' 'DrugY' 'drugC' 'DrugY'\n",
      " 'DrugY' 'DrugY' 'DrugY'] \n",
      " Accuracy: 98.48484848484848 %\n"
     ]
    }
   ],
   "source": [
    "nb = naive_bayes.GaussianNB()\n",
    "nb.fit(x_train, y_train)\n",
    "nb_acc = 100*nb.score(x_test, y_test)\n",
    "print('Naive Bayes Predictions: \\n', nb.predict(x_test), '\\n Accuracy:', nb_acc, '%')\n"
   ]
  },
  {
   "cell_type": "markdown",
   "metadata": {},
   "source": [
    "# 6. K-Nearest Neighbours"
   ]
  },
  {
   "cell_type": "code",
   "execution_count": 24,
   "metadata": {
    "execution": {
     "iopub.execute_input": "2021-06-08T14:54:22.150855Z",
     "iopub.status.busy": "2021-06-08T14:54:22.15055Z",
     "iopub.status.idle": "2021-06-08T14:54:22.177432Z",
     "shell.execute_reply": "2021-06-08T14:54:22.176152Z",
     "shell.execute_reply.started": "2021-06-08T14:54:22.150829Z"
    },
    "trusted": true
   },
   "outputs": [
    {
     "name": "stdout",
     "output_type": "stream",
     "text": [
      "K-Nearest Neighbours Predictions: \n",
      " ['drugX' 'DrugY' 'drugA' 'DrugY' 'DrugY' 'DrugY' 'drugX' 'drugA' 'drugX'\n",
      " 'drugX' 'DrugY' 'drugX' 'drugX' 'DrugY' 'drugX' 'drugX' 'drugX' 'DrugY'\n",
      " 'drugX' 'drugC' 'drugX' 'drugX' 'drugA' 'DrugY' 'DrugY' 'DrugY' 'drugC'\n",
      " 'drugX' 'DrugY' 'DrugY' 'drugX' 'DrugY' 'DrugY' 'DrugY' 'DrugY' 'DrugY'\n",
      " 'DrugY' 'drugX' 'drugX' 'DrugY' 'DrugY' 'DrugY' 'drugX' 'drugB' 'DrugY'\n",
      " 'DrugY' 'drugC' 'drugB' 'DrugY' 'DrugY' 'drugX' 'drugX' 'DrugY' 'DrugY'\n",
      " 'drugX' 'DrugY' 'drugX' 'drugA' 'DrugY' 'drugA' 'DrugY' 'drugC' 'DrugY'\n",
      " 'DrugY' 'DrugY' 'DrugY'] \n",
      " Accuracy: 86.36363636363636 %\n"
     ]
    }
   ],
   "source": [
    "knn = neighbors.KNeighborsClassifier(n_neighbors=25)\n",
    "knn.fit(x_train, y_train)\n",
    "knn_acc = 100*knn.score(x_test, y_test)\n",
    "print('K-Nearest Neighbours Predictions: \\n', knn.predict(x_test), '\\n Accuracy:', knn_acc, '%')"
   ]
  },
  {
   "cell_type": "markdown",
   "metadata": {},
   "source": [
    "# 7. Support Vector Machine"
   ]
  },
  {
   "cell_type": "code",
   "execution_count": 25,
   "metadata": {
    "execution": {
     "iopub.execute_input": "2021-06-08T14:54:22.179153Z",
     "iopub.status.busy": "2021-06-08T14:54:22.178827Z",
     "iopub.status.idle": "2021-06-08T14:54:22.210059Z",
     "shell.execute_reply": "2021-06-08T14:54:22.208965Z",
     "shell.execute_reply.started": "2021-06-08T14:54:22.179123Z"
    },
    "trusted": true
   },
   "outputs": [
    {
     "name": "stdout",
     "output_type": "stream",
     "text": [
      "SVM Predictions: \n",
      " ['drugX' 'DrugY' 'drugA' 'DrugY' 'DrugY' 'DrugY' 'drugX' 'drugA' 'drugX'\n",
      " 'drugX' 'drugX' 'drugX' 'drugX' 'drugB' 'drugX' 'drugX' 'drugX' 'drugC'\n",
      " 'drugX' 'drugC' 'drugX' 'drugX' 'drugB' 'drugA' 'DrugY' 'DrugY' 'drugC'\n",
      " 'drugX' 'DrugY' 'DrugY' 'drugX' 'DrugY' 'DrugY' 'DrugY' 'DrugY' 'DrugY'\n",
      " 'DrugY' 'drugX' 'drugX' 'drugA' 'DrugY' 'DrugY' 'drugX' 'drugB' 'drugA'\n",
      " 'DrugY' 'drugC' 'drugB' 'DrugY' 'drugC' 'drugX' 'drugX' 'DrugY' 'drugB'\n",
      " 'drugX' 'DrugY' 'drugX' 'drugA' 'DrugY' 'drugA' 'DrugY' 'drugC' 'DrugY'\n",
      " 'DrugY' 'DrugY' 'DrugY'] \n",
      " Accuracy: 100.0 %\n"
     ]
    }
   ],
   "source": [
    "svm =svm.SVC(kernel='linear')\n",
    "svm.fit(x_train, y_train)\n",
    "svm_acc = 100*svm.score(x_test, y_test)\n",
    "print('SVM Predictions: \\n', svm.predict(x_test), '\\n Accuracy:', svm_acc, '%')"
   ]
  },
  {
   "cell_type": "markdown",
   "metadata": {},
   "source": [
    "# 8. Summary"
   ]
  },
  {
   "cell_type": "code",
   "execution_count": 26,
   "metadata": {
    "execution": {
     "iopub.execute_input": "2021-06-08T14:54:22.211782Z",
     "iopub.status.busy": "2021-06-08T14:54:22.211455Z",
     "iopub.status.idle": "2021-06-08T14:54:22.225984Z",
     "shell.execute_reply": "2021-06-08T14:54:22.224666Z",
     "shell.execute_reply.started": "2021-06-08T14:54:22.21175Z"
    },
    "trusted": true
   },
   "outputs": [
    {
     "data": {
      "text/html": [
       "<div>\n",
       "<style scoped>\n",
       "    .dataframe tbody tr th:only-of-type {\n",
       "        vertical-align: middle;\n",
       "    }\n",
       "\n",
       "    .dataframe tbody tr th {\n",
       "        vertical-align: top;\n",
       "    }\n",
       "\n",
       "    .dataframe thead th {\n",
       "        text-align: right;\n",
       "    }\n",
       "</style>\n",
       "<table border=\"1\" class=\"dataframe\">\n",
       "  <thead>\n",
       "    <tr style=\"text-align: right;\">\n",
       "      <th></th>\n",
       "      <th>Model</th>\n",
       "      <th>Accuracy %</th>\n",
       "    </tr>\n",
       "  </thead>\n",
       "  <tbody>\n",
       "    <tr>\n",
       "      <th>0</th>\n",
       "      <td>Logistic Regression</td>\n",
       "      <td>98.484848</td>\n",
       "    </tr>\n",
       "    <tr>\n",
       "      <th>1</th>\n",
       "      <td>Gaussian Naive Bayes</td>\n",
       "      <td>98.484848</td>\n",
       "    </tr>\n",
       "    <tr>\n",
       "      <th>2</th>\n",
       "      <td>K_Nearest Neighbours</td>\n",
       "      <td>86.363636</td>\n",
       "    </tr>\n",
       "    <tr>\n",
       "      <th>3</th>\n",
       "      <td>Support Vector Machine(SVM)</td>\n",
       "      <td>100.000000</td>\n",
       "    </tr>\n",
       "  </tbody>\n",
       "</table>\n",
       "</div>"
      ],
      "text/plain": [
       "                         Model  Accuracy %\n",
       "0          Logistic Regression   98.484848\n",
       "1         Gaussian Naive Bayes   98.484848\n",
       "2         K_Nearest Neighbours   86.363636\n",
       "3  Support Vector Machine(SVM)  100.000000"
      ]
     },
     "execution_count": 26,
     "metadata": {},
     "output_type": "execute_result"
    }
   ],
   "source": [
    "pd.DataFrame(data={'Model': ['Logistic Regression','Gaussian Naive Bayes', 'K_Nearest Neighbours', 'Support Vector Machine(SVM)'], 'Accuracy %':[log_reg_acc, nb_acc, knn_acc, svm_acc]})"
   ]
  },
  {
   "cell_type": "markdown",
   "metadata": {},
   "source": [
    "# 9. Conclusion"
   ]
  },
  {
   "cell_type": "markdown",
   "metadata": {},
   "source": [
    "Logistic Regression, Naive Bayes and SVM all successfully predicted 100% of the drug types that the patients should be assigned. K-Nearest Neighbours had a much lower success rate of only 77%. This makes sense as KNN is known as a 'Lazy Learner' meaning it doesn't actually 'learn' anything in the training period - it just stores training data. Nevertheless, the other models were successful!"
   ]
  },
  {
   "cell_type": "code",
   "execution_count": 27,
   "metadata": {
    "execution": {
     "iopub.execute_input": "2021-06-08T14:54:22.227995Z",
     "iopub.status.busy": "2021-06-08T14:54:22.227494Z",
     "iopub.status.idle": "2021-06-08T14:54:22.244704Z",
     "shell.execute_reply": "2021-06-08T14:54:22.243567Z",
     "shell.execute_reply.started": "2021-06-08T14:54:22.227944Z"
    },
    "trusted": true
   },
   "outputs": [],
   "source": [
    "df1 = pd.read_csv('drug200.csv')\n",
    "df1.to_csv('Drug Classification100',index = False)"
   ]
  }
 ],
 "metadata": {
  "kaggle": {
   "accelerator": "none",
   "dataSources": [
    {
     "datasetId": 830916,
     "sourceId": 1419436,
     "sourceType": "datasetVersion"
    }
   ],
   "dockerImageVersionId": 30066,
   "isGpuEnabled": false,
   "isInternetEnabled": false,
   "language": "python",
   "sourceType": "notebook"
  },
  "kernelspec": {
   "display_name": "Python 3",
   "language": "python",
   "name": "python3"
  },
  "language_info": {
   "codemirror_mode": {
    "name": "ipython",
    "version": 3
   },
   "file_extension": ".py",
   "mimetype": "text/x-python",
   "name": "python",
   "nbconvert_exporter": "python",
   "pygments_lexer": "ipython3",
   "version": "3.12.2"
  }
 },
 "nbformat": 4,
 "nbformat_minor": 4
}
